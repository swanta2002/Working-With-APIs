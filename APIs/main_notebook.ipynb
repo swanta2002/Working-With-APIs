{
 "cells": [
  {
   "cell_type": "markdown",
   "metadata": {},
   "source": [
    "# Use this notbook for your 3 choices of APIs"
   ]
  },
  {
   "cell_type": "code",
   "execution_count": 51,
   "metadata": {},
   "outputs": [],
   "source": [
    "# Import requests library\n",
    "import pandas as pd\n",
    "import requests\n",
    "import json"
   ]
  },
  {
   "cell_type": "code",
   "execution_count": null,
   "metadata": {},
   "outputs": [],
   "source": [
    "# Working with APIs for Tele"
   ]
  },
  {
   "cell_type": "code",
   "execution_count": 52,
   "metadata": {},
   "outputs": [
    {
     "name": "stdout",
     "output_type": "stream",
     "text": [
      "teloport: 200\n"
     ]
    }
   ],
   "source": [
    "teloport = requests.get(\"https://api.teleport.org/api/urban_areas/slug:san-francisco-bay-area/scores/\") # authenticating the api\n",
    "print(\"teloport:\", teloport.status_code)"
   ]
  },
  {
   "cell_type": "code",
   "execution_count": 53,
   "metadata": {},
   "outputs": [],
   "source": [
    "response = requests.get(\"https://api.teleport.org/api/urban_areas/slug:san-francisco-bay-area/scores/\") # getting response through request\n",
    "#response\n",
    "results = response.json()\n",
    "#results"
   ]
  },
  {
   "cell_type": "code",
   "execution_count": 54,
   "metadata": {},
   "outputs": [],
   "source": [
    "from pandas import json_normalize                         # flattening the data to the lowest level for easy access\n",
    "\n",
    "results = response.json()\n",
    "flattened_data = json_normalize(results[\"categories\"])\n",
    "\n",
    "#flattened_data"
   ]
  },
  {
   "cell_type": "code",
   "execution_count": 55,
   "metadata": {},
   "outputs": [],
   "source": [
    "#results.keys()"
   ]
  },
  {
   "cell_type": "markdown",
   "metadata": {},
   "source": [
    "# Working with APIs for AQI"
   ]
  },
  {
   "cell_type": "code",
   "execution_count": 67,
   "metadata": {},
   "outputs": [
    {
     "name": "stdout",
     "output_type": "stream",
     "text": [
      "aqi: 200\n"
     ]
    }
   ],
   "source": [
    "aqi = requests.get(\"https://api.waqi.info/feed/shanghai/?token=demo\")  # authenticating the api\n",
    "print(\"aqi:\", aqi.status_code)"
   ]
  },
  {
   "cell_type": "code",
   "execution_count": 57,
   "metadata": {},
   "outputs": [],
   "source": [
    "response1 = requests.get(\"https://api.waqi.info/feed/shanghai/?token=demo\")  # getting response through request\n",
    "#response\n",
    "results1 = response1.json()\n",
    "#results1"
   ]
  },
  {
   "cell_type": "code",
   "execution_count": 58,
   "metadata": {},
   "outputs": [],
   "source": [
    "from pandas import json_normalize                               # flattening the firts data to the lowest level for easy access\n",
    "\n",
    "results1 = response1.json()\n",
    "flattened_data1 = json_normalize(results1[\"data\"][\"forecast\"][\"daily\"][\"o3\"])\n",
    "flattened_data1.rename(columns = {'avg': 'o3_avg'}, inplace = True)\n",
    "\n",
    "#flattened_data1"
   ]
  },
  {
   "cell_type": "code",
   "execution_count": 59,
   "metadata": {},
   "outputs": [],
   "source": [
    "from pandas import json_normalize                              # flattening the second data to the lowest level for easy access\n",
    "\n",
    "results2 = response1.json()\n",
    "flattened_data2 = json_normalize(results2[\"data\"][\"forecast\"][\"daily\"][\"pm10\"])\n",
    "flattened_data2.rename(columns = {'avg': 'pm10_avg'}, inplace = True)\n",
    "\n",
    "#flattened_data2"
   ]
  },
  {
   "cell_type": "code",
   "execution_count": 60,
   "metadata": {},
   "outputs": [],
   "source": [
    "from pandas import json_normalize                             # flattening the third data to the lowest level for easy access\n",
    "\n",
    "results3 = response1.json()\n",
    "flattened_data3 = json_normalize(results3[\"data\"][\"forecast\"][\"daily\"][\"pm25\"])\n",
    "flattened_data3.rename(columns = {'avg': 'pm25_avg'}, inplace = True)\n",
    "\n",
    "#flattened_data3"
   ]
  },
  {
   "cell_type": "code",
   "execution_count": 61,
   "metadata": {},
   "outputs": [],
   "source": [
    "flattened_data4 = pd.merge(flattened_data1, flattened_data2, on = 'day')\n",
    "#flattened_data4"
   ]
  },
  {
   "cell_type": "code",
   "execution_count": 62,
   "metadata": {},
   "outputs": [],
   "source": [
    "aqi_ = pd.merge(flattened_data3, flattened_data4, on = 'day')"
   ]
  },
  {
   "cell_type": "code",
   "execution_count": 63,
   "metadata": {},
   "outputs": [],
   "source": [
    "#aqi_"
   ]
  },
  {
   "cell_type": "markdown",
   "metadata": {},
   "source": [
    "# Working with APIs for Nobel_Laureates"
   ]
  },
  {
   "cell_type": "code",
   "execution_count": 64,
   "metadata": {},
   "outputs": [
    {
     "name": "stdout",
     "output_type": "stream",
     "text": [
      "nobel_laureates: 200\n"
     ]
    }
   ],
   "source": [
    "nobel_laureates = requests.get(\"https://api.nobelprize.org/2.1/laureates\")  # authenticating the api\n",
    "print(\"nobel_laureates:\", nobel_laureates.status_code)"
   ]
  },
  {
   "cell_type": "code",
   "execution_count": 65,
   "metadata": {},
   "outputs": [],
   "source": [
    "response = requests.get(\"https://api.nobelprize.org/2.1/laureates\")    # getting response through request\n",
    "results_nob = response.json()\n",
    "#results_nob"
   ]
  },
  {
   "cell_type": "code",
   "execution_count": 66,
   "metadata": {},
   "outputs": [],
   "source": [
    "from pandas import json_normalize                        # flattening the data to the lowest level for easy access\n",
    "\n",
    "results_nob = response.json()\n",
    "flattened_nob = json_normalize(results_nob[\"laureates\"])\n",
    "\n",
    "#flattened_nob "
   ]
  },
  {
   "cell_type": "code",
   "execution_count": null,
   "metadata": {},
   "outputs": [],
   "source": []
  }
 ],
 "metadata": {
  "kernelspec": {
   "display_name": "Python 3 (ipykernel)",
   "language": "python",
   "name": "python3"
  },
  "language_info": {
   "codemirror_mode": {
    "name": "ipython",
    "version": 3
   },
   "file_extension": ".py",
   "mimetype": "text/x-python",
   "name": "python",
   "nbconvert_exporter": "python",
   "pygments_lexer": "ipython3",
   "version": "3.11.3"
  }
 },
 "nbformat": 4,
 "nbformat_minor": 4
}
